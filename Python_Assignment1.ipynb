{
 "cells": [
  {
   "cell_type": "markdown",
   "id": "c418ad31",
   "metadata": {},
   "source": [
    "1. In the below elements which of them are values or an expression? eg:- values can be\n",
    "integer or string and expressions will be mathematical operators.\n",
    "*\n",
    "&#39;hello&#39;\n",
    "-87.8\n",
    "-\n",
    "/\n",
    "+\n",
    "6"
   ]
  },
  {
   "cell_type": "raw",
   "id": "3644b6eb",
   "metadata": {},
   "source": [
    "(*, -, /, + ) -> Arthematic Expression (Multiplication, Subtraction, Division, Addition)\n",
    "\n",
    "\n",
    "'hello'       -> String \n",
    "\n",
    "-87.8         -> Float value\n",
    "\n",
    "6             -> Integer Value"
   ]
  },
  {
   "cell_type": "markdown",
   "id": "ab0ec1f1",
   "metadata": {},
   "source": [
    "  "
   ]
  },
  {
   "cell_type": "markdown",
   "id": "aa61ea78",
   "metadata": {},
   "source": [
    "2) What is the difference between string and variable?"
   ]
  },
  {
   "cell_type": "markdown",
   "id": "61637217",
   "metadata": {},
   "source": [
    "A Variable is a to store of value/Information, and a String is a type of information you would store in a Variable. \n",
    "\n",
    "for eg name =\"Pavan Sekhar\" here name is the Variable, Pavan Sekhar is text assignd to it."
   ]
  },
  {
   "cell_type": "markdown",
   "id": "8798d412",
   "metadata": {},
   "source": [
    " "
   ]
  },
  {
   "cell_type": "markdown",
   "id": "1fdfaea2",
   "metadata": {},
   "source": [
    "3) Describe three different data types."
   ]
  },
  {
   "cell_type": "raw",
   "id": "44d01187",
   "metadata": {},
   "source": [
    "A data type is an attribute associated with a piece of data that tells a computer system how to interpret its value\n",
    "eg: Integer, Float, String\n",
    "\n",
    "\n",
    "Integer -> Numeric data type for numbers without fractions\n",
    "Float   -> Numeric data type for numbers with fractions\n",
    "String  -> Sequence of characters, digits, or symbols—always treated as text"
   ]
  },
  {
   "cell_type": "code",
   "execution_count": 1,
   "id": "ab5164c0",
   "metadata": {},
   "outputs": [
    {
     "name": "stdout",
     "output_type": "stream",
     "text": [
      "Integer <class 'int'> \n",
      " float <class 'float'> \n",
      " String <class 'str'>\n"
     ]
    }
   ],
   "source": [
    "print(f\"Integer {type(12)} \\n float {type(1.2)} \\n String {type('Pavan')}\")"
   ]
  },
  {
   "cell_type": "markdown",
   "id": "518e8e12",
   "metadata": {},
   "source": [
    " "
   ]
  },
  {
   "cell_type": "markdown",
   "id": "bd182d81",
   "metadata": {},
   "source": [
    "4)What is an expression made up of? What do all expressions do?"
   ]
  },
  {
   "cell_type": "raw",
   "id": "36943268",
   "metadata": {},
   "source": [
    "Expression is combination of operands and operators. An expression in Python is a combination of operators and operands. An example of expression can be : x = x + 120, y = y + 40\n",
    "\n",
    "The expression in Python produces some value/result after being interpreted by the Python interpreter."
   ]
  },
  {
   "cell_type": "markdown",
   "id": "c1cd28a6",
   "metadata": {},
   "source": [
    " "
   ]
  },
  {
   "cell_type": "markdown",
   "id": "bec86f22",
   "metadata": {},
   "source": [
    "5) This assignment statements, like spam = 10. What is the difference between an\n",
    "expression and a statement?"
   ]
  },
  {
   "cell_type": "markdown",
   "id": "cc33f257",
   "metadata": {},
   "source": [
    "An expression evaluates to a single value. A statement does not."
   ]
  },
  {
   "cell_type": "markdown",
   "id": "6f49a6d4",
   "metadata": {},
   "source": [
    "  "
   ]
  },
  {
   "cell_type": "markdown",
   "id": "a39d4221",
   "metadata": {},
   "source": [
    "6) After running the following code, what does the variable bacon contain?\n",
    "\n",
    "bacon = 22\n",
    "\n",
    "bacon + 1"
   ]
  },
  {
   "cell_type": "raw",
   "id": "5713ae35",
   "metadata": {},
   "source": [
    "The bacon variable is set to 20. The bacon + 1 expression does not reassign the value in bacon (that would need an assignment statement: bacon = bacon + 1)"
   ]
  },
  {
   "cell_type": "code",
   "execution_count": 2,
   "id": "5d470aca",
   "metadata": {},
   "outputs": [
    {
     "data": {
      "text/plain": [
       "23"
      ]
     },
     "execution_count": 2,
     "metadata": {},
     "output_type": "execute_result"
    }
   ],
   "source": [
    "bacon=22\n",
    "bacon =bacon+1\n",
    "bacon"
   ]
  },
  {
   "cell_type": "markdown",
   "id": "f4a5e5f6",
   "metadata": {},
   "source": [
    " "
   ]
  },
  {
   "cell_type": "markdown",
   "id": "35fa0316",
   "metadata": {},
   "source": [
    "7) What should the values of the following two terms be?\n",
    "spam + spamspam\n",
    "spam*3"
   ]
  },
  {
   "cell_type": "raw",
   "id": "3ad091f2",
   "metadata": {},
   "source": [
    "Both expressions evaluate to the string 'spamspamspam'"
   ]
  },
  {
   "cell_type": "code",
   "execution_count": 3,
   "id": "1070bf6d",
   "metadata": {},
   "outputs": [
    {
     "data": {
      "text/plain": [
       "'spamspamspam'"
      ]
     },
     "execution_count": 3,
     "metadata": {},
     "output_type": "execute_result"
    }
   ],
   "source": [
    "'spam' + 'spamspam'"
   ]
  },
  {
   "cell_type": "code",
   "execution_count": 4,
   "id": "7eff4b6e",
   "metadata": {},
   "outputs": [
    {
     "data": {
      "text/plain": [
       "'spamspamspam'"
      ]
     },
     "execution_count": 4,
     "metadata": {},
     "output_type": "execute_result"
    }
   ],
   "source": [
    "'spam'*3"
   ]
  },
  {
   "cell_type": "markdown",
   "id": "b26a59c6",
   "metadata": {},
   "source": [
    " "
   ]
  },
  {
   "cell_type": "markdown",
   "id": "2c2bd303",
   "metadata": {},
   "source": [
    "8) Why is eggs a valid variable name while 100 is invalid?"
   ]
  },
  {
   "cell_type": "raw",
   "id": "3dd6c645",
   "metadata": {},
   "source": [
    "Variable names cannot begin with a number."
   ]
  },
  {
   "cell_type": "code",
   "execution_count": 5,
   "id": "a822cb3b",
   "metadata": {},
   "outputs": [
    {
     "ename": "SyntaxError",
     "evalue": "cannot assign to literal (972449777.py, line 2)",
     "output_type": "error",
     "traceback": [
      "\u001b[1;36m  File \u001b[1;32m\"C:\\Users\\user\\AppData\\Local\\Temp\\ipykernel_19240\\972449777.py\"\u001b[1;36m, line \u001b[1;32m2\u001b[0m\n\u001b[1;33m    100=1\u001b[0m\n\u001b[1;37m    ^\u001b[0m\n\u001b[1;31mSyntaxError\u001b[0m\u001b[1;31m:\u001b[0m cannot assign to literal\n"
     ]
    }
   ],
   "source": [
    "eggs=1\n",
    "100=1"
   ]
  },
  {
   "cell_type": "markdown",
   "id": "2a5170ed",
   "metadata": {},
   "source": [
    "9) What three functions can be used to get the integer, floating-point number, or string\n",
    "version of a value?"
   ]
  },
  {
   "cell_type": "raw",
   "id": "13fd4d84",
   "metadata": {},
   "source": [
    "The int(), float(), and str() functions will evaluate to the integer, floating-point number, and string versions of the value passed to them."
   ]
  },
  {
   "cell_type": "code",
   "execution_count": 6,
   "id": "0925fe02",
   "metadata": {},
   "outputs": [
    {
     "data": {
      "text/plain": [
       "int"
      ]
     },
     "execution_count": 6,
     "metadata": {},
     "output_type": "execute_result"
    }
   ],
   "source": [
    "type(int('2'))"
   ]
  },
  {
   "cell_type": "code",
   "execution_count": 7,
   "id": "66834869",
   "metadata": {},
   "outputs": [
    {
     "data": {
      "text/plain": [
       "float"
      ]
     },
     "execution_count": 7,
     "metadata": {},
     "output_type": "execute_result"
    }
   ],
   "source": [
    "type(float('2.2'))"
   ]
  },
  {
   "cell_type": "code",
   "execution_count": 8,
   "id": "aae9ee34",
   "metadata": {},
   "outputs": [
    {
     "data": {
      "text/plain": [
       "str"
      ]
     },
     "execution_count": 8,
     "metadata": {},
     "output_type": "execute_result"
    }
   ],
   "source": [
    "type(str(2.1))"
   ]
  },
  {
   "cell_type": "markdown",
   "id": "cfdc5669",
   "metadata": {},
   "source": [
    " "
   ]
  },
  {
   "cell_type": "markdown",
   "id": "6d7c93c0",
   "metadata": {},
   "source": [
    "10)Why does this expression cause an error? How can you fix it?\n",
    "'I have eaten' + 99 + 'burritos.'"
   ]
  },
  {
   "cell_type": "raw",
   "id": "a59c931e",
   "metadata": {},
   "source": [
    "The expression causes an error because 99 is an integer which is not a string, and only strings can be concatenated to other strings with the + operator. so we need to use str() function\n",
    "\n",
    "The correct way is I have eaten ' + str(99) + ' burritos.'."
   ]
  },
  {
   "cell_type": "code",
   "execution_count": 9,
   "id": "30bf3045",
   "metadata": {},
   "outputs": [
    {
     "data": {
      "text/plain": [
       "'I have eaten 99 burritos.'"
      ]
     },
     "execution_count": 9,
     "metadata": {},
     "output_type": "execute_result"
    }
   ],
   "source": [
    "'I have eaten ' + str(99) + ' burritos.'"
   ]
  },
  {
   "cell_type": "code",
   "execution_count": null,
   "id": "38591da7",
   "metadata": {},
   "outputs": [],
   "source": []
  }
 ],
 "metadata": {
  "kernelspec": {
   "display_name": "Python 3 (ipykernel)",
   "language": "python",
   "name": "python3"
  },
  "language_info": {
   "codemirror_mode": {
    "name": "ipython",
    "version": 3
   },
   "file_extension": ".py",
   "mimetype": "text/x-python",
   "name": "python",
   "nbconvert_exporter": "python",
   "pygments_lexer": "ipython3",
   "version": "3.9.13"
  }
 },
 "nbformat": 4,
 "nbformat_minor": 5
}
