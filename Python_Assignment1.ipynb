{
 "cells": [
  {
   "cell_type": "markdown",
   "id": "4d1eef3f",
   "metadata": {},
   "source": [
    "1. In the below elements which of them are values or an expression? eg:- values can be\n",
    "integer or string and expressions will be mathematical operators.\n",
    "*\n",
    "&#39;hello&#39;\n",
    "-87.8\n",
    "-\n",
    "/\n",
    "+\n",
    "6"
   ]
  },
  {
   "cell_type": "markdown",
   "id": "d710ccbc",
   "metadata": {},
   "source": [
    "(*, -, /, + ) -> Arthematic Expression (Multiplication, Subtraction, Division, Addition)\n",
    "\n",
    "\n",
    "'hello'       -> String \n",
    "\n",
    "-87.8         -> Float value\n",
    "\n",
    "6             -> Integer Value"
   ]
  },
  {
   "cell_type": "markdown",
   "id": "15685fd4",
   "metadata": {},
   "source": [
    "  "
   ]
  },
  {
   "cell_type": "markdown",
   "id": "56b59c97",
   "metadata": {},
   "source": [
    "2) What is the difference between string and variable?"
   ]
  },
  {
   "cell_type": "markdown",
   "id": "6430b7d0",
   "metadata": {},
   "source": [
    "A Variable is a to store of value/Information, and a String is a type of information you would store in a Variable. \n",
    "\n",
    "for eg name =\"Pavan Sekhar\" here name is the Variable, Pavan Sekhar is text assignd to it."
   ]
  },
  {
   "cell_type": "markdown",
   "id": "142f4b6a",
   "metadata": {},
   "source": [
    " "
   ]
  },
  {
   "cell_type": "markdown",
   "id": "68456967",
   "metadata": {},
   "source": [
    "3) Describe three different data types."
   ]
  },
  {
   "cell_type": "markdown",
   "id": "c5fa1781",
   "metadata": {},
   "source": [
    "A data type is an attribute associated with a piece of data that tells a computer system how to interpret its value\n",
    "eg: Integer, Float, String\n",
    "\n",
    "\n",
    "Integer -> Numeric data type for numbers without fractions\n",
    "\n",
    "Float   -> Numeric data type for numbers with fractions\n",
    "\n",
    "String  -> Sequence of characters, digits, or symbols—always treated as text"
   ]
  },
  {
   "cell_type": "code",
   "execution_count": 1,
   "id": "47e990f8",
   "metadata": {},
   "outputs": [
    {
     "name": "stdout",
     "output_type": "stream",
     "text": [
      "Integer <class 'int'> \n",
      " float <class 'float'> \n",
      " String <class 'str'>\n"
     ]
    }
   ],
   "source": [
    "print(f\"Integer {type(12)} \\n float {type(1.2)} \\n String {type('Pavan')}\")"
   ]
  },
  {
   "cell_type": "markdown",
   "id": "5c0ec2cb",
   "metadata": {},
   "source": [
    " "
   ]
  },
  {
   "cell_type": "markdown",
   "id": "5eb78fab",
   "metadata": {},
   "source": [
    "4)What is an expression made up of? What do all expressions do?"
   ]
  },
  {
   "cell_type": "markdown",
   "id": "40eaf4c1",
   "metadata": {},
   "source": [
    "Expression is combination of operands and operators. An expression in Python is a combination of operators and operands. An example of expression can be : x = x + 120, y = y + 40\n",
    "\n",
    "The expression in Python produces some value/result after being interpreted by the Python interpreter."
   ]
  },
  {
   "cell_type": "markdown",
   "id": "56eaf661",
   "metadata": {},
   "source": [
    " "
   ]
  },
  {
   "cell_type": "markdown",
   "id": "ebaf7d85",
   "metadata": {},
   "source": [
    "5) This assignment statements, like spam = 10. What is the difference between an\n",
    "expression and a statement?"
   ]
  },
  {
   "cell_type": "markdown",
   "id": "38465151",
   "metadata": {},
   "source": [
    "An expression evaluates to a single value. A statement does not."
   ]
  },
  {
   "cell_type": "markdown",
   "id": "e14abd46",
   "metadata": {},
   "source": [
    "  "
   ]
  },
  {
   "cell_type": "markdown",
   "id": "fad4cb6b",
   "metadata": {},
   "source": [
    "6) After running the following code, what does the variable bacon contain?\n",
    "\n",
    "bacon = 22\n",
    "\n",
    "bacon + 1"
   ]
  },
  {
   "cell_type": "markdown",
   "id": "11a94aa6",
   "metadata": {},
   "source": [
    "The bacon variable is set to 20. The bacon + 1 expression does not reassign the value in bacon (that would need an assignment statement: bacon = bacon + 1)"
   ]
  },
  {
   "cell_type": "code",
   "execution_count": 2,
   "id": "b5801c07",
   "metadata": {},
   "outputs": [
    {
     "data": {
      "text/plain": [
       "23"
      ]
     },
     "execution_count": 2,
     "metadata": {},
     "output_type": "execute_result"
    }
   ],
   "source": [
    "bacon=22\n",
    "bacon =bacon+1\n",
    "bacon"
   ]
  },
  {
   "cell_type": "markdown",
   "id": "2b920d6c",
   "metadata": {},
   "source": [
    " "
   ]
  },
  {
   "cell_type": "markdown",
   "id": "e5982e88",
   "metadata": {},
   "source": [
    "7) What should the values of the following two terms be?\n",
    "spam + spamspam\n",
    "spam*3"
   ]
  },
  {
   "cell_type": "markdown",
   "id": "d61d6fc0",
   "metadata": {},
   "source": [
    "Both expressions evaluate to the string 'spamspamspam'"
   ]
  },
  {
   "cell_type": "code",
   "execution_count": 3,
   "id": "7bf88e6c",
   "metadata": {},
   "outputs": [
    {
     "data": {
      "text/plain": [
       "'spamspamspam'"
      ]
     },
     "execution_count": 3,
     "metadata": {},
     "output_type": "execute_result"
    }
   ],
   "source": [
    "'spam' + 'spamspam'"
   ]
  },
  {
   "cell_type": "code",
   "execution_count": 4,
   "id": "28789346",
   "metadata": {},
   "outputs": [
    {
     "data": {
      "text/plain": [
       "'spamspamspam'"
      ]
     },
     "execution_count": 4,
     "metadata": {},
     "output_type": "execute_result"
    }
   ],
   "source": [
    "'spam'*3"
   ]
  },
  {
   "cell_type": "markdown",
   "id": "05fcdcf6",
   "metadata": {},
   "source": [
    " "
   ]
  },
  {
   "cell_type": "markdown",
   "id": "f4d2eae0",
   "metadata": {},
   "source": [
    "8) Why is eggs a valid variable name while 100 is invalid?"
   ]
  },
  {
   "cell_type": "markdown",
   "id": "91be5379",
   "metadata": {},
   "source": [
    "Variable names cannot begin with a number."
   ]
  },
  {
   "cell_type": "code",
   "execution_count": 5,
   "id": "ef843ac6",
   "metadata": {},
   "outputs": [
    {
     "ename": "SyntaxError",
     "evalue": "cannot assign to literal (972449777.py, line 2)",
     "output_type": "error",
     "traceback": [
      "\u001b[1;36m  File \u001b[1;32m\"C:\\Users\\user\\AppData\\Local\\Temp\\ipykernel_19240\\972449777.py\"\u001b[1;36m, line \u001b[1;32m2\u001b[0m\n\u001b[1;33m    100=1\u001b[0m\n\u001b[1;37m    ^\u001b[0m\n\u001b[1;31mSyntaxError\u001b[0m\u001b[1;31m:\u001b[0m cannot assign to literal\n"
     ]
    }
   ],
   "source": [
    "eggs=1\n",
    "100=1"
   ]
  },
  {
   "cell_type": "markdown",
   "id": "bb7437c7",
   "metadata": {},
   "source": [
    "9) What three functions can be used to get the integer, floating-point number, or string\n",
    "version of a value?"
   ]
  },
  {
   "cell_type": "markdown",
   "id": "d77b6ee6",
   "metadata": {},
   "source": [
    "The int(), float(), and str() functions will evaluate to the integer, floating-point number, and string versions of the value passed to them."
   ]
  },
  {
   "cell_type": "code",
   "execution_count": 6,
   "id": "bd48c154",
   "metadata": {},
   "outputs": [
    {
     "data": {
      "text/plain": [
       "int"
      ]
     },
     "execution_count": 6,
     "metadata": {},
     "output_type": "execute_result"
    }
   ],
   "source": [
    "type(int('2'))"
   ]
  },
  {
   "cell_type": "code",
   "execution_count": 7,
   "id": "631ca9ac",
   "metadata": {},
   "outputs": [
    {
     "data": {
      "text/plain": [
       "float"
      ]
     },
     "execution_count": 7,
     "metadata": {},
     "output_type": "execute_result"
    }
   ],
   "source": [
    "type(float('2.2'))"
   ]
  },
  {
   "cell_type": "code",
   "execution_count": 8,
   "id": "c00605e0",
   "metadata": {},
   "outputs": [
    {
     "data": {
      "text/plain": [
       "str"
      ]
     },
     "execution_count": 8,
     "metadata": {},
     "output_type": "execute_result"
    }
   ],
   "source": [
    "type(str(2.1))"
   ]
  },
  {
   "cell_type": "markdown",
   "id": "cb070b2e",
   "metadata": {},
   "source": [
    " "
   ]
  },
  {
   "cell_type": "markdown",
   "id": "7a804e7f",
   "metadata": {},
   "source": [
    "10)Why does this expression cause an error? How can you fix it?\n",
    "'I have eaten' + 99 + 'burritos.'"
   ]
  },
  {
   "cell_type": "markdown",
   "id": "9cfa89a8",
   "metadata": {},
   "source": [
    "The expression causes an error because 99 is an integer which is not a string, and only strings can be concatenated to other strings with the + operator. so we need to use str() function\n",
    "\n",
    "The correct way is I have eaten ' + str(99) + ' burritos.'."
   ]
  },
  {
   "cell_type": "code",
   "execution_count": 9,
   "id": "f8ff56f7",
   "metadata": {},
   "outputs": [
    {
     "data": {
      "text/plain": [
       "'I have eaten 99 burritos.'"
      ]
     },
     "execution_count": 9,
     "metadata": {},
     "output_type": "execute_result"
    }
   ],
   "source": [
    "'I have eaten ' + str(99) + ' burritos.'"
   ]
  },
  {
   "cell_type": "code",
   "execution_count": null,
   "id": "1d7105c5",
   "metadata": {},
   "outputs": [],
   "source": []
  }
 ],
 "metadata": {
  "kernelspec": {
   "display_name": "Python 3 (ipykernel)",
   "language": "python",
   "name": "python3"
  },
  "language_info": {
   "codemirror_mode": {
    "name": "ipython",
    "version": 3
   },
   "file_extension": ".py",
   "mimetype": "text/x-python",
   "name": "python",
   "nbconvert_exporter": "python",
   "pygments_lexer": "ipython3",
   "version": "3.9.13"
  }
 },
 "nbformat": 4,
 "nbformat_minor": 5
}
